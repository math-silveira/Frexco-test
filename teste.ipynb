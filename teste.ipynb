{
 "cells": [
  {
   "attachments": {},
   "cell_type": "markdown",
   "metadata": {},
   "source": [
    "Importando pandas e o método display"
   ]
  },
  {
   "cell_type": "code",
   "execution_count": 1,
   "metadata": {},
   "outputs": [],
   "source": [
    "import pandas as pd\n",
    "from IPython.display import display\n",
    "import holidays\n",
    "import matplotlib.pyplot as plt\n",
    "from sklearn.linear_model import LinearRegression\n",
    "import statsmodels.formula.api as sm\n",
    "from datetime import datetime\n",
    "import numpy as np\n",
    "from sklearn.model_selection import train_test_split\n",
    "from sklearn.naive_bayes import GaussianNB\n",
    "from sklearn.preprocessing import LabelEncoder\n",
    "from sklearn.metrics import confusion_matrix, accuracy_score\n",
    "from sklearn.tree import DecisionTreeClassifier\n",
    "import graphviz\n",
    "from sklearn.tree import export_graphviz\n",
    "\n",
    "\n"
   ]
  },
  {
   "attachments": {},
   "cell_type": "markdown",
   "metadata": {},
   "source": [
    "Importando a base de dados"
   ]
  },
  {
   "cell_type": "code",
   "execution_count": 2,
   "metadata": {},
   "outputs": [],
   "source": [
    "dados = pd.read_excel('Dados.xlsx')"
   ]
  },
  {
   "attachments": {},
   "cell_type": "markdown",
   "metadata": {},
   "source": [
    "Descobrindo quais datas são feriados"
   ]
  },
  {
   "cell_type": "code",
   "execution_count": 3,
   "metadata": {},
   "outputs": [],
   "source": [
    "\n",
    "    \n",
    "feriados = holidays.BR()"
   ]
  },
  {
   "attachments": {},
   "cell_type": "markdown",
   "metadata": {},
   "source": [
    "Criando duas novas features para validar se é fim de semana ou feriado pois interfere diretamente nas vendas"
   ]
  },
  {
   "cell_type": "code",
   "execution_count": 4,
   "metadata": {},
   "outputs": [],
   "source": [
    "from datetime import date\n",
    "dados['FinalDeSemana'] = dados['Data'].dt.dayofweek > 4\n",
    "dados['FinalDeSemana'] = dados['FinalDeSemana'].astype(int)"
   ]
  },
  {
   "cell_type": "code",
   "execution_count": 5,
   "metadata": {},
   "outputs": [],
   "source": [
    "#lembrando que aqui é definido a \"range\" da pesquisa, até o dia 31/01 seria válido também. É importante ficar atento ao consumo de recursos computacionais.\n",
    "dados['Feriado'] = dados['Data'].isin(feriados['2022-12-01': '2023-12-31']) \n",
    "dados['Feriado'] = dados['Feriado'].astype(int)\n"
   ]
  },
  {
   "cell_type": "code",
   "execution_count": 6,
   "metadata": {},
   "outputs": [],
   "source": [
    "#display(dados)"
   ]
  },
  {
   "cell_type": "code",
   "execution_count": 19,
   "metadata": {},
   "outputs": [],
   "source": [
    "previsores = dados.iloc[:, 2:4].values\n",
    "classe = dados.iloc[:, 1].values"
   ]
  },
  {
   "cell_type": "code",
   "execution_count": 20,
   "metadata": {},
   "outputs": [],
   "source": [
    "X_treinamento, X_teste, y_treinamento, y_teste = train_test_split(  previsores,\n",
    "                                                                    classe,\n",
    "                                                                    test_size=0.3,\n",
    "                                                                    random_state=0)\n",
    "                                                                 "
   ]
  },
  {
   "attachments": {},
   "cell_type": "markdown",
   "metadata": {},
   "source": [
    "Importando a regressão linear múltipla"
   ]
  },
  {
   "cell_type": "code",
   "execution_count": 21,
   "metadata": {},
   "outputs": [
    {
     "data": {
      "text/plain": [
       "array([355.33333333, 949.        , 949.        , 355.33333333,\n",
       "       949.        , 949.        , 949.        , 355.33333333,\n",
       "       949.        , 355.33333333, 949.        , 949.        ,\n",
       "       949.        , 949.        ])"
      ]
     },
     "execution_count": 21,
     "metadata": {},
     "output_type": "execute_result"
    }
   ],
   "source": [
    "modelo = LinearRegression()\n",
    "modelo.fit(X_treinamento, y_treinamento)\n",
    "\n",
    "\n",
    "previsoes = modelo.predict(X_teste)\n",
    "previsoes"
   ]
  },
  {
   "attachments": {},
   "cell_type": "markdown",
   "metadata": {},
   "source": [
    "importando de uma planilha os dias a serem previstos e gerando as features adicionais."
   ]
  },
  {
   "cell_type": "code",
   "execution_count": 22,
   "metadata": {},
   "outputs": [],
   "source": [
    "from datetime import date\n",
    "from datetime import datetime\n",
    "\n",
    "df = pd.read_excel('Dias.xlsx')\n",
    "\n",
    "df['FinalDeSemana'] = df['Data'].dt.dayofweek > 4\n",
    "df['FinalDeSemana'] = df['FinalDeSemana'].astype(int)\n",
    "\n",
    "df['Feriado'] = df['Data'].isin(feriados['2022-12-01': '2023-12-31']) \n",
    "df['Feriado'] = df['Feriado'].astype(int)"
   ]
  },
  {
   "attachments": {},
   "cell_type": "markdown",
   "metadata": {},
   "source": [
    "Prevendo..."
   ]
  },
  {
   "cell_type": "code",
   "execution_count": 27,
   "metadata": {},
   "outputs": [
    {
     "data": {
      "text/plain": [
       "array([355.33333333, 355.33333333, 949.        , 949.        ,\n",
       "       949.        ])"
      ]
     },
     "execution_count": 27,
     "metadata": {},
     "output_type": "execute_result"
    }
   ],
   "source": [
    "validacao = df.iloc[:, 1:3].values\n",
    "modelo.predict(validacao)"
   ]
  }
 ],
 "metadata": {
  "kernelspec": {
   "display_name": "base",
   "language": "python",
   "name": "python3"
  },
  "language_info": {
   "codemirror_mode": {
    "name": "ipython",
    "version": 3
   },
   "file_extension": ".py",
   "mimetype": "text/x-python",
   "name": "python",
   "nbconvert_exporter": "python",
   "pygments_lexer": "ipython3",
   "version": "3.9.13"
  },
  "orig_nbformat": 4,
  "vscode": {
   "interpreter": {
    "hash": "90d35fb4bcff4ea793cb1af3346b5c7cb2da9a7d783fbefa02d0a7cf62ebe112"
   }
  }
 },
 "nbformat": 4,
 "nbformat_minor": 2
}
